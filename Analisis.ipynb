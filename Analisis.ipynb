{
 "cells": [
  {
   "cell_type": "code",
   "execution_count": 148,
   "id": "2989a290",
   "metadata": {},
   "outputs": [],
   "source": [
    "#Importo las librerias que me interesan\n",
    "import json\n",
    "import matplotlib.pyplot as plt\n",
    "import numpy as np\n",
    "import pandas as pd\n",
    "import requests\n",
    "\n",
    "BASE_URI = 'https://api.mercadolibre.com'\n",
    "\n"
   ]
  },
  {
   "cell_type": "code",
   "execution_count": 3,
   "id": "5a96ed18",
   "metadata": {},
   "outputs": [],
   "source": [
    "def get_site_categories(site):\n",
    "    '''Funcion para traer la info de las categorias que hay en un site'''\n",
    "    urls = f'{BASE_URI}/sites/{site}/categories#json'\n",
    "    response = requests.get(urls)\n",
    "\n",
    "    if response.status_code == 200:\n",
    "        return response.json()\n",
    "    else:\n",
    "        raise Exception('Error making get api call categories from {}.'.format(site))\n",
    "\n",
    "def get_subcategories(category):\n",
    "    '''Funcion para traer la info de las subcategoriascategorias que hay en un site'''\n",
    "    urls = f'{BASE_URI}/categories/{category}'\n",
    "    response = requests.get(urls)\n",
    "\n",
    "    if response.status_code == 200:\n",
    "        return response.json()['children_categories']\n",
    "    else:\n",
    "        raise Exception('Error making get api call subcategories from {}.'.format(category))\n",
    "\n",
    "def get_items(site,subcategory):\n",
    "    '''Funcion para traer los items que hay en un site'''\n",
    "    urls = f'{BASE_URI}/sites/{site}/search?category={subcategory}'\n",
    "    response = requests.get(urls)\n",
    "\n",
    "    if response.status_code == 200:\n",
    "        return response.json()\n",
    "    else:\n",
    "        raise Exception('Error making get api call items from {}.'.format(site))\n",
    "        \n",
    "def get_item_info(itemid):\n",
    "    '''Funcion para traer la info de los items'''\n",
    "    urls = f'{BASE_URI}/items/{itemid}'\n",
    "    response = requests.get(urls)\n",
    "\n",
    "    if response.status_code == 200:\n",
    "        return response.json()\n",
    "    else:\n",
    "        raise Exception('Error making get api call item info for item_id {}.'.format(itemid))\n",
    "\n",
    "def get_categorie_from_name(catjson, elementname):\n",
    "    '''Funcion para buscar el nombre de una categoria'''\n",
    "    for subcat in catjson:\n",
    "        if subcat['name']!= elementname:\n",
    "            continue\n",
    "        else:\n",
    "            return print(subcat['id'])\n",
    "    raise Exception('Id not found')"
   ]
  },
  {
   "cell_type": "code",
   "execution_count": 4,
   "id": "05b7c5ef",
   "metadata": {},
   "outputs": [],
   "source": [
    "data = pd.DataFrame()\n",
    "\n",
    "selectedcolumns = ['id',\n",
    "                   'site_id',\n",
    "                   'price',\n",
    "                   'sale_price',\n",
    "                   'currency_id',\n",
    "                   'available_quantity',\n",
    "                   'sold_quantity',\n",
    "                   'buying_mode',\n",
    "                   'listing_type_id',\n",
    "                   'condition',\n",
    "                   'accepts_mercadopago',\n",
    "                   'original_price',\n",
    "                   'category_id',\n",
    "                   'domain_id',\n",
    "                   'seller.eshop.eshop_status_id',\n",
    "                   'seller.seller_reputation.power_seller_status',\n",
    "                   'seller.seller_reputation.level_id',\n",
    "                   'seller.seller_reputation.metrics.cancellations.rate',\n",
    "                   'seller.seller_reputation.metrics.claims.rate',\n",
    "                   'seller.seller_reputation.metrics.delayed_handling_time.rate',\n",
    "                   'seller.seller_reputation.transactions.canceled',\n",
    "                   'seller.seller_reputation.transactions.period',\n",
    "                   'seller.seller_reputation.transactions.ratings.negative',\n",
    "                   'seller.seller_reputation.transactions.ratings.neutral',\n",
    "                   'seller.seller_reputation.transactions.ratings.positive',\n",
    "                   'seller.seller_reputation.transactions.completed',\n",
    "                   'installments.quantity', #Hacer bool\n",
    "                   'installments.rate', #Hace bool\n",
    "                   'address.state_id',\n",
    "                   'shipping.free_shipping',\n",
    "                   'shipping.mode',\n",
    "                   'shipping.store_pick_up',\n",
    "                   'categ_id_l1',\n",
    "                   'categ_name_l1',\n",
    "                   'categ_id_l2',\n",
    "                   'categ_name_l2'\n",
    "                  ]"
   ]
  },
  {
   "cell_type": "code",
   "execution_count": 15,
   "id": "00647f29",
   "metadata": {},
   "outputs": [],
   "source": [
    "#Creo un dataframe para despues agregar los datos\n",
    "data = pd.DataFrame()\n",
    "\n",
    "#defino los sites que voy a analizar\n",
    "\n",
    "sites=['MLA']\n",
    "\n",
    "#Busco las categorias del site, subcategorias y los items que se encuentran publicados y los agrego al DF\n",
    "for site in sites:\n",
    "    categories = get_site_categories(site)\n",
    "\n",
    "    for categ in categories:\n",
    "        subcategories = get_subcategories(categ['id'])\n",
    "\n",
    "        for subcat in subcategories:\n",
    "            subcatitems = get_items(site,subcat['id']) \n",
    "\n",
    "            dftemp = pd.json_normalize(\n",
    "                subcatitems,\n",
    "                record_path = ['results'],\n",
    "                errors = 'ignore')\n",
    "            dftemp['categ_id_l1']=str(categ['id'])\n",
    "            dftemp['categ_name_l1']=str(categ['name'])\n",
    "            dftemp['categ_id_l2']=str(subcat['id'])\n",
    "            dftemp['categ_name_l2']=str(subcat['name'])\n",
    "            data = data.append(dftemp)\n",
    "            data = data[selectedcolumns]\n",
    "\n",
    "\n",
    "\n"
   ]
  },
  {
   "cell_type": "code",
   "execution_count": 200,
   "id": "aed62016",
   "metadata": {},
   "outputs": [],
   "source": [
    "features_num = ['price', #num\n",
    "           'available_quantity', #num\n",
    "           'sold_quantity', #num\n",
    "           'original_price', #num\n",
    "           'seller.eshop.eshop_status_id', #num\n",
    "           'seller.seller_reputation.metrics.cancellations.rate', #num\n",
    "           'seller.seller_reputation.metrics.claims.rate', #num\n",
    "           'seller.seller_reputation.metrics.delayed_handling_time.rate', #num\n",
    "           'seller.seller_reputation.transactions.ratings.negative', #num\n",
    "           'seller.seller_reputation.transactions.ratings.neutral', #num\n",
    "           'seller.seller_reputation.transactions.ratings.positive', #num\n",
    "           'seller.seller_reputation.transactions.completed' #num\n",
    "          ]\n",
    "features_str = ['listing_type_id', #str\n",
    "           'category_id', #str\n",
    "           'domain_id', #str\n",
    "           'seller.seller_reputation.power_seller_status', #str\n",
    "           'seller.seller_reputation.level_id', #str\n",
    "           'address.state_id', #str\n",
    "           'shipping.mode', #str\n",
    "           'categ_id_l1', #str\n",
    "           'categ_id_l2', #str\n",
    "          ]\n",
    "features_bool = ['shipping.free_shipping', #bool\n",
    "           'shipping.store_pick_up', #bool\n",
    "          ]\n",
    "\n",
    "#Acomodo la info que me interesa\n",
    "data_mod = data\n",
    "data_mod.head()\n",
    "data_mod.dropna()\n",
    "data_mod['offer'] = np.where(data_mod['original_price']>0,True,False)\n",
    "data_mod['price'] = pd.to_numeric(data_mod['price'])\n",
    "data_mod['original_price'] = pd.to_numeric(data_mod['original_price'])\n",
    "\n",
    "for col in features_num:\n",
    "    data_mod[col] = pd.to_numeric(data_mod[col])"
   ]
  },
  {
   "cell_type": "code",
   "execution_count": 75,
   "id": "69dbd4e9",
   "metadata": {},
   "outputs": [
    {
     "name": "stderr",
     "output_type": "stream",
     "text": [
      "/root/.cache/pypoetry/virtualenvs/app-noFtLz8P-py3.7/lib/python3.7/site-packages/ipykernel_launcher.py:3: SettingWithCopyWarning: \n",
      "A value is trying to be set on a copy of a slice from a DataFrame.\n",
      "Try using .loc[row_indexer,col_indexer] = value instead\n",
      "\n",
      "See the caveats in the documentation: https://pandas.pydata.org/pandas-docs/stable/user_guide/indexing.html#returning-a-view-versus-a-copy\n",
      "  This is separate from the ipykernel package so we can avoid doing imports until\n",
      "/root/.cache/pypoetry/virtualenvs/app-noFtLz8P-py3.7/lib/python3.7/site-packages/ipykernel_launcher.py:4: SettingWithCopyWarning: \n",
      "A value is trying to be set on a copy of a slice from a DataFrame.\n",
      "Try using .loc[row_indexer,col_indexer] = value instead\n",
      "\n",
      "See the caveats in the documentation: https://pandas.pydata.org/pandas-docs/stable/user_guide/indexing.html#returning-a-view-versus-a-copy\n",
      "  after removing the cwd from sys.path.\n",
      "/root/.cache/pypoetry/virtualenvs/app-noFtLz8P-py3.7/lib/python3.7/site-packages/ipykernel_launcher.py:6: SettingWithCopyWarning: \n",
      "A value is trying to be set on a copy of a slice from a DataFrame.\n",
      "Try using .loc[row_indexer,col_indexer] = value instead\n",
      "\n",
      "See the caveats in the documentation: https://pandas.pydata.org/pandas-docs/stable/user_guide/indexing.html#returning-a-view-versus-a-copy\n",
      "  \n",
      "/root/.cache/pypoetry/virtualenvs/app-noFtLz8P-py3.7/lib/python3.7/site-packages/ipykernel_launcher.py:7: SettingWithCopyWarning: \n",
      "A value is trying to be set on a copy of a slice from a DataFrame.\n",
      "Try using .loc[row_indexer,col_indexer] = value instead\n",
      "\n",
      "See the caveats in the documentation: https://pandas.pydata.org/pandas-docs/stable/user_guide/indexing.html#returning-a-view-versus-a-copy\n",
      "  import sys\n",
      "/root/.cache/pypoetry/virtualenvs/app-noFtLz8P-py3.7/lib/python3.7/site-packages/ipykernel_launcher.py:8: SettingWithCopyWarning: \n",
      "A value is trying to be set on a copy of a slice from a DataFrame.\n",
      "Try using .loc[row_indexer,col_indexer] = value instead\n",
      "\n",
      "See the caveats in the documentation: https://pandas.pydata.org/pandas-docs/stable/user_guide/indexing.html#returning-a-view-versus-a-copy\n",
      "  \n",
      "/root/.cache/pypoetry/virtualenvs/app-noFtLz8P-py3.7/lib/python3.7/site-packages/ipykernel_launcher.py:9: SettingWithCopyWarning: \n",
      "A value is trying to be set on a copy of a slice from a DataFrame.\n",
      "Try using .loc[row_indexer,col_indexer] = value instead\n",
      "\n",
      "See the caveats in the documentation: https://pandas.pydata.org/pandas-docs/stable/user_guide/indexing.html#returning-a-view-versus-a-copy\n",
      "  if __name__ == '__main__':\n"
     ]
    }
   ],
   "source": [
    "# Saco la data de los articulos que tiene descuento y agrego las columnas con la info relacionada a la baja de precio\n",
    "data_offer = data_mod[data_mod['offer']==True]\n",
    "data_offer['discount'] = data_offer['original_price']-data_offer['price']\n",
    "data_offer['discount_perc'] =1-data_offer['price']/data_offer['original_price']\n",
    "\n",
    "data_offer['discount'] = pd.to_numeric(data_offer['discount'])\n",
    "data_offer['discount_perc'] = pd.to_numeric(data_offer['discount_perc'])\n",
    "data_offer['price'] = pd.to_numeric(data_offer['price'])\n",
    "data_offer['original_price'] = pd.to_numeric(data_offer['original_price'])\n"
   ]
  },
  {
   "cell_type": "code",
   "execution_count": 98,
   "id": "edb52411",
   "metadata": {},
   "outputs": [
    {
     "data": {
      "text/html": [
       "<div>\n",
       "<style scoped>\n",
       "    .dataframe tbody tr th:only-of-type {\n",
       "        vertical-align: middle;\n",
       "    }\n",
       "\n",
       "    .dataframe tbody tr th {\n",
       "        vertical-align: top;\n",
       "    }\n",
       "\n",
       "    .dataframe thead th {\n",
       "        text-align: right;\n",
       "    }\n",
       "</style>\n",
       "<table border=\"1\" class=\"dataframe\">\n",
       "  <thead>\n",
       "    <tr style=\"text-align: right;\">\n",
       "      <th></th>\n",
       "      <th>offer_qty</th>\n",
       "      <th>offer_price_max</th>\n",
       "      <th>offer_price_min</th>\n",
       "      <th>offer_price_med</th>\n",
       "      <th>original_price_max</th>\n",
       "      <th>original_price_min</th>\n",
       "      <th>original_price_med</th>\n",
       "      <th>discount_max</th>\n",
       "      <th>discount_min</th>\n",
       "      <th>discount_avg</th>\n",
       "      <th>discount_perc_max</th>\n",
       "      <th>sold_qty</th>\n",
       "    </tr>\n",
       "    <tr>\n",
       "      <th>categ_name_l1</th>\n",
       "      <th></th>\n",
       "      <th></th>\n",
       "      <th></th>\n",
       "      <th></th>\n",
       "      <th></th>\n",
       "      <th></th>\n",
       "      <th></th>\n",
       "      <th></th>\n",
       "      <th></th>\n",
       "      <th></th>\n",
       "      <th></th>\n",
       "      <th></th>\n",
       "    </tr>\n",
       "  </thead>\n",
       "  <tbody>\n",
       "    <tr>\n",
       "      <th>Deportes y Fitness</th>\n",
       "      <td>306</td>\n",
       "      <td>167216.00</td>\n",
       "      <td>198.00</td>\n",
       "      <td>8015.000359</td>\n",
       "      <td>177889.0</td>\n",
       "      <td>220.00</td>\n",
       "      <td>8015.000359</td>\n",
       "      <td>43001.00</td>\n",
       "      <td>0.0</td>\n",
       "      <td>1447.234935</td>\n",
       "      <td>0.625050</td>\n",
       "      <td>681013.0</td>\n",
       "    </tr>\n",
       "    <tr>\n",
       "      <th>Juegos y Juguetes</th>\n",
       "      <td>203</td>\n",
       "      <td>65999.34</td>\n",
       "      <td>359.10</td>\n",
       "      <td>8418.575813</td>\n",
       "      <td>99999.0</td>\n",
       "      <td>399.00</td>\n",
       "      <td>8418.575813</td>\n",
       "      <td>33999.66</td>\n",
       "      <td>0.0</td>\n",
       "      <td>2022.672069</td>\n",
       "      <td>0.611167</td>\n",
       "      <td>103691.0</td>\n",
       "    </tr>\n",
       "    <tr>\n",
       "      <th>Accesorios para Vehículos</th>\n",
       "      <td>134</td>\n",
       "      <td>66266.00</td>\n",
       "      <td>427.50</td>\n",
       "      <td>13505.493433</td>\n",
       "      <td>66266.0</td>\n",
       "      <td>427.50</td>\n",
       "      <td>13505.493433</td>\n",
       "      <td>20001.00</td>\n",
       "      <td>0.0</td>\n",
       "      <td>2364.275896</td>\n",
       "      <td>0.700250</td>\n",
       "      <td>169902.0</td>\n",
       "    </tr>\n",
       "    <tr>\n",
       "      <th>Ropa y Accesorios</th>\n",
       "      <td>121</td>\n",
       "      <td>22990.00</td>\n",
       "      <td>546.00</td>\n",
       "      <td>4715.956777</td>\n",
       "      <td>29985.0</td>\n",
       "      <td>650.00</td>\n",
       "      <td>4715.956777</td>\n",
       "      <td>11001.00</td>\n",
       "      <td>0.0</td>\n",
       "      <td>961.783967</td>\n",
       "      <td>0.647118</td>\n",
       "      <td>360204.0</td>\n",
       "    </tr>\n",
       "    <tr>\n",
       "      <th>Electrónica, Audio y Video</th>\n",
       "      <td>99</td>\n",
       "      <td>224599.00</td>\n",
       "      <td>271.70</td>\n",
       "      <td>19422.333434</td>\n",
       "      <td>238449.0</td>\n",
       "      <td>286.00</td>\n",
       "      <td>19422.333434</td>\n",
       "      <td>80001.00</td>\n",
       "      <td>0.0</td>\n",
       "      <td>6911.196566</td>\n",
       "      <td>0.651000</td>\n",
       "      <td>205677.0</td>\n",
       "    </tr>\n",
       "    <tr>\n",
       "      <th>Hogar, Muebles y Jardín</th>\n",
       "      <td>94</td>\n",
       "      <td>30399.05</td>\n",
       "      <td>80.99</td>\n",
       "      <td>6207.268404</td>\n",
       "      <td>31999.0</td>\n",
       "      <td>89.99</td>\n",
       "      <td>6207.268404</td>\n",
       "      <td>6550.00</td>\n",
       "      <td>0.0</td>\n",
       "      <td>1234.401277</td>\n",
       "      <td>0.760200</td>\n",
       "      <td>585663.0</td>\n",
       "    </tr>\n",
       "    <tr>\n",
       "      <th>Belleza y Cuidado Personal</th>\n",
       "      <td>90</td>\n",
       "      <td>19999.00</td>\n",
       "      <td>174.00</td>\n",
       "      <td>6534.271444</td>\n",
       "      <td>38000.0</td>\n",
       "      <td>220.00</td>\n",
       "      <td>6534.271444</td>\n",
       "      <td>21001.00</td>\n",
       "      <td>0.0</td>\n",
       "      <td>2183.676333</td>\n",
       "      <td>0.732273</td>\n",
       "      <td>197284.0</td>\n",
       "    </tr>\n",
       "    <tr>\n",
       "      <th>Computación</th>\n",
       "      <td>84</td>\n",
       "      <td>163998.36</td>\n",
       "      <td>329.00</td>\n",
       "      <td>34689.424286</td>\n",
       "      <td>199998.0</td>\n",
       "      <td>349.00</td>\n",
       "      <td>34689.424286</td>\n",
       "      <td>80001.00</td>\n",
       "      <td>0.0</td>\n",
       "      <td>7263.892738</td>\n",
       "      <td>0.650500</td>\n",
       "      <td>157047.0</td>\n",
       "    </tr>\n",
       "    <tr>\n",
       "      <th>Cámaras y Accesorios</th>\n",
       "      <td>81</td>\n",
       "      <td>224599.00</td>\n",
       "      <td>382.20</td>\n",
       "      <td>26555.287037</td>\n",
       "      <td>238449.0</td>\n",
       "      <td>459.00</td>\n",
       "      <td>26555.287037</td>\n",
       "      <td>53050.00</td>\n",
       "      <td>0.0</td>\n",
       "      <td>5395.660864</td>\n",
       "      <td>0.685857</td>\n",
       "      <td>54822.0</td>\n",
       "    </tr>\n",
       "    <tr>\n",
       "      <th>Herramientas</th>\n",
       "      <td>75</td>\n",
       "      <td>187890.00</td>\n",
       "      <td>449.00</td>\n",
       "      <td>10739.002000</td>\n",
       "      <td>221710.0</td>\n",
       "      <td>800.00</td>\n",
       "      <td>10739.002000</td>\n",
       "      <td>33820.00</td>\n",
       "      <td>0.0</td>\n",
       "      <td>2285.016133</td>\n",
       "      <td>0.700200</td>\n",
       "      <td>134608.0</td>\n",
       "    </tr>\n",
       "  </tbody>\n",
       "</table>\n",
       "</div>"
      ],
      "text/plain": [
       "                            offer_qty  offer_price_max  offer_price_min  \\\n",
       "categ_name_l1                                                             \n",
       "Deportes y Fitness                306        167216.00           198.00   \n",
       "Juegos y Juguetes                 203         65999.34           359.10   \n",
       "Accesorios para Vehículos         134         66266.00           427.50   \n",
       "Ropa y Accesorios                 121         22990.00           546.00   \n",
       "Electrónica, Audio y Video         99        224599.00           271.70   \n",
       "Hogar, Muebles y Jardín            94         30399.05            80.99   \n",
       "Belleza y Cuidado Personal         90         19999.00           174.00   \n",
       "Computación                        84        163998.36           329.00   \n",
       "Cámaras y Accesorios               81        224599.00           382.20   \n",
       "Herramientas                       75        187890.00           449.00   \n",
       "\n",
       "                            offer_price_med  original_price_max  \\\n",
       "categ_name_l1                                                     \n",
       "Deportes y Fitness              8015.000359            177889.0   \n",
       "Juegos y Juguetes               8418.575813             99999.0   \n",
       "Accesorios para Vehículos      13505.493433             66266.0   \n",
       "Ropa y Accesorios               4715.956777             29985.0   \n",
       "Electrónica, Audio y Video     19422.333434            238449.0   \n",
       "Hogar, Muebles y Jardín         6207.268404             31999.0   \n",
       "Belleza y Cuidado Personal      6534.271444             38000.0   \n",
       "Computación                    34689.424286            199998.0   \n",
       "Cámaras y Accesorios           26555.287037            238449.0   \n",
       "Herramientas                   10739.002000            221710.0   \n",
       "\n",
       "                            original_price_min  original_price_med  \\\n",
       "categ_name_l1                                                        \n",
       "Deportes y Fitness                      220.00         8015.000359   \n",
       "Juegos y Juguetes                       399.00         8418.575813   \n",
       "Accesorios para Vehículos               427.50        13505.493433   \n",
       "Ropa y Accesorios                       650.00         4715.956777   \n",
       "Electrónica, Audio y Video              286.00        19422.333434   \n",
       "Hogar, Muebles y Jardín                  89.99         6207.268404   \n",
       "Belleza y Cuidado Personal              220.00         6534.271444   \n",
       "Computación                             349.00        34689.424286   \n",
       "Cámaras y Accesorios                    459.00        26555.287037   \n",
       "Herramientas                            800.00        10739.002000   \n",
       "\n",
       "                            discount_max  discount_min  discount_avg  \\\n",
       "categ_name_l1                                                          \n",
       "Deportes y Fitness              43001.00           0.0   1447.234935   \n",
       "Juegos y Juguetes               33999.66           0.0   2022.672069   \n",
       "Accesorios para Vehículos       20001.00           0.0   2364.275896   \n",
       "Ropa y Accesorios               11001.00           0.0    961.783967   \n",
       "Electrónica, Audio y Video      80001.00           0.0   6911.196566   \n",
       "Hogar, Muebles y Jardín          6550.00           0.0   1234.401277   \n",
       "Belleza y Cuidado Personal      21001.00           0.0   2183.676333   \n",
       "Computación                     80001.00           0.0   7263.892738   \n",
       "Cámaras y Accesorios            53050.00           0.0   5395.660864   \n",
       "Herramientas                    33820.00           0.0   2285.016133   \n",
       "\n",
       "                            discount_perc_max  sold_qty  \n",
       "categ_name_l1                                            \n",
       "Deportes y Fitness                   0.625050  681013.0  \n",
       "Juegos y Juguetes                    0.611167  103691.0  \n",
       "Accesorios para Vehículos            0.700250  169902.0  \n",
       "Ropa y Accesorios                    0.647118  360204.0  \n",
       "Electrónica, Audio y Video           0.651000  205677.0  \n",
       "Hogar, Muebles y Jardín              0.760200  585663.0  \n",
       "Belleza y Cuidado Personal           0.732273  197284.0  \n",
       "Computación                          0.650500  157047.0  \n",
       "Cámaras y Accesorios                 0.685857   54822.0  \n",
       "Herramientas                         0.700200  134608.0  "
      ]
     },
     "execution_count": 98,
     "metadata": {},
     "output_type": "execute_result"
    }
   ],
   "source": [
    "categ_data = data_mod.groupby('categ_name_l1').agg(\n",
    "    qty = pd.NamedAgg(column='id', aggfunc=\"count\"),\n",
    "    pub_price_max = pd.NamedAgg(column='price', aggfunc=max),\n",
    "    pub_price_min = pd.NamedAgg(column='price', aggfunc=min),\n",
    "    pub_price_med = pd.NamedAgg(column='original_price', aggfunc=np.mean),\n",
    "    sold_qty = pd.NamedAgg(column='sold_quantity', aggfunc=sum)).reset_index()\n",
    "\n",
    "categ_offer = data_offer.groupby('categ_name_l1').agg(\n",
    "    offer_qty = pd.NamedAgg(column='offer', aggfunc=sum),\n",
    "    offer_price_max = pd.NamedAgg(column='price', aggfunc=max),\n",
    "    offer_price_min = pd.NamedAgg(column='price', aggfunc=min),\n",
    "    offer_price_med = pd.NamedAgg(column='original_price', aggfunc=np.mean),\n",
    "    original_price_max = pd.NamedAgg(column='original_price', aggfunc=max),\n",
    "    original_price_min = pd.NamedAgg(column='original_price', aggfunc=min),\n",
    "    original_price_med = pd.NamedAgg(column='original_price', aggfunc=np.mean),\n",
    "    discount_max = pd.NamedAgg(column='discount', aggfunc=max),\n",
    "    discount_min = pd.NamedAgg(column='discount', aggfunc=min),\n",
    "    discount_avg = pd.NamedAgg(column='discount', aggfunc=np.mean),\n",
    "    discount_perc_max = pd.NamedAgg(column='discount_perc', aggfunc=max),\n",
    "    sold_qty = pd.NamedAgg(column='sold_quantity', aggfunc=sum)).reset_index()\n",
    "categ_offer = categ_offer.set_index('categ_name_l1')\n",
    "categ_data = categ_data.set_index('categ_name_l1')\n",
    "categ_offer['offer_qty'] = pd.to_numeric(categ_offer['offer_qty'])\n",
    "categ_data['qty'] = pd.to_numeric(categ_data['qty'])\n",
    "#Aca veo el top 10 de ofertas\n",
    "categ_offer.sort_values(by='offer_qty', ascending=False).head(10)"
   ]
  },
  {
   "cell_type": "code",
   "execution_count": 99,
   "id": "2b0c3578",
   "metadata": {},
   "outputs": [
    {
     "data": {
      "text/html": [
       "<div>\n",
       "<style scoped>\n",
       "    .dataframe tbody tr th:only-of-type {\n",
       "        vertical-align: middle;\n",
       "    }\n",
       "\n",
       "    .dataframe tbody tr th {\n",
       "        vertical-align: top;\n",
       "    }\n",
       "\n",
       "    .dataframe thead th {\n",
       "        text-align: right;\n",
       "    }\n",
       "</style>\n",
       "<table border=\"1\" class=\"dataframe\">\n",
       "  <thead>\n",
       "    <tr style=\"text-align: right;\">\n",
       "      <th></th>\n",
       "      <th>qty</th>\n",
       "      <th>pub_price_max</th>\n",
       "      <th>pub_price_min</th>\n",
       "      <th>pub_price_med</th>\n",
       "      <th>sold_qty</th>\n",
       "    </tr>\n",
       "    <tr>\n",
       "      <th>categ_name_l1</th>\n",
       "      <th></th>\n",
       "      <th></th>\n",
       "      <th></th>\n",
       "      <th></th>\n",
       "      <th></th>\n",
       "    </tr>\n",
       "  </thead>\n",
       "  <tbody>\n",
       "    <tr>\n",
       "      <th>Deportes y Fitness</th>\n",
       "      <td>1950</td>\n",
       "      <td>1.849999e+06</td>\n",
       "      <td>100.0</td>\n",
       "      <td>8015.000359</td>\n",
       "      <td>1774869.0</td>\n",
       "    </tr>\n",
       "    <tr>\n",
       "      <th>Juegos y Juguetes</th>\n",
       "      <td>1250</td>\n",
       "      <td>2.500000e+05</td>\n",
       "      <td>100.0</td>\n",
       "      <td>8418.575813</td>\n",
       "      <td>478683.0</td>\n",
       "    </tr>\n",
       "    <tr>\n",
       "      <th>Ropa y Accesorios</th>\n",
       "      <td>1100</td>\n",
       "      <td>4.555500e+04</td>\n",
       "      <td>210.0</td>\n",
       "      <td>4715.956777</td>\n",
       "      <td>1675244.0</td>\n",
       "    </tr>\n",
       "    <tr>\n",
       "      <th>Accesorios para Vehículos</th>\n",
       "      <td>1050</td>\n",
       "      <td>6.534900e+05</td>\n",
       "      <td>219.0</td>\n",
       "      <td>13505.493433</td>\n",
       "      <td>802031.0</td>\n",
       "    </tr>\n",
       "    <tr>\n",
       "      <th>Computación</th>\n",
       "      <td>949</td>\n",
       "      <td>3.292262e+05</td>\n",
       "      <td>100.0</td>\n",
       "      <td>34689.424286</td>\n",
       "      <td>384215.0</td>\n",
       "    </tr>\n",
       "    <tr>\n",
       "      <th>Servicios</th>\n",
       "      <td>900</td>\n",
       "      <td>1.111111e+08</td>\n",
       "      <td>50.0</td>\n",
       "      <td>NaN</td>\n",
       "      <td>46573.0</td>\n",
       "    </tr>\n",
       "    <tr>\n",
       "      <th>Inmuebles</th>\n",
       "      <td>800</td>\n",
       "      <td>3.108568e+07</td>\n",
       "      <td>65.0</td>\n",
       "      <td>990000.000000</td>\n",
       "      <td>0.0</td>\n",
       "    </tr>\n",
       "    <tr>\n",
       "      <th>Electrónica, Audio y Video</th>\n",
       "      <td>750</td>\n",
       "      <td>2.245990e+05</td>\n",
       "      <td>99.0</td>\n",
       "      <td>19422.333434</td>\n",
       "      <td>684493.0</td>\n",
       "    </tr>\n",
       "    <tr>\n",
       "      <th>Bebés</th>\n",
       "      <td>750</td>\n",
       "      <td>3.690000e+04</td>\n",
       "      <td>200.0</td>\n",
       "      <td>7450.911111</td>\n",
       "      <td>501051.0</td>\n",
       "    </tr>\n",
       "    <tr>\n",
       "      <th>Industrias y Oficinas</th>\n",
       "      <td>650</td>\n",
       "      <td>1.478790e+05</td>\n",
       "      <td>99.0</td>\n",
       "      <td>6030.319767</td>\n",
       "      <td>1536438.0</td>\n",
       "    </tr>\n",
       "  </tbody>\n",
       "</table>\n",
       "</div>"
      ],
      "text/plain": [
       "                             qty  pub_price_max  pub_price_min  pub_price_med  \\\n",
       "categ_name_l1                                                                   \n",
       "Deportes y Fitness          1950   1.849999e+06          100.0    8015.000359   \n",
       "Juegos y Juguetes           1250   2.500000e+05          100.0    8418.575813   \n",
       "Ropa y Accesorios           1100   4.555500e+04          210.0    4715.956777   \n",
       "Accesorios para Vehículos   1050   6.534900e+05          219.0   13505.493433   \n",
       "Computación                  949   3.292262e+05          100.0   34689.424286   \n",
       "Servicios                    900   1.111111e+08           50.0            NaN   \n",
       "Inmuebles                    800   3.108568e+07           65.0  990000.000000   \n",
       "Electrónica, Audio y Video   750   2.245990e+05           99.0   19422.333434   \n",
       "Bebés                        750   3.690000e+04          200.0    7450.911111   \n",
       "Industrias y Oficinas        650   1.478790e+05           99.0    6030.319767   \n",
       "\n",
       "                             sold_qty  \n",
       "categ_name_l1                          \n",
       "Deportes y Fitness          1774869.0  \n",
       "Juegos y Juguetes            478683.0  \n",
       "Ropa y Accesorios           1675244.0  \n",
       "Accesorios para Vehículos    802031.0  \n",
       "Computación                  384215.0  \n",
       "Servicios                     46573.0  \n",
       "Inmuebles                         0.0  \n",
       "Electrónica, Audio y Video   684493.0  \n",
       "Bebés                        501051.0  \n",
       "Industrias y Oficinas       1536438.0  "
      ]
     },
     "execution_count": 99,
     "metadata": {},
     "output_type": "execute_result"
    }
   ],
   "source": [
    "categ_data.sort_values(by='qty', ascending=False).head(10)"
   ]
  },
  {
   "cell_type": "markdown",
   "id": "33d8d9d7",
   "metadata": {},
   "source": [
    "Es evidente que hay outliers, habria que hacer una limpieza antes de hacer el entrenamiento.\n",
    "Veo si a parte de los descuentos ofrecen algo mas y si los vendedores son de categorias altas \n",
    "    o si quieren ganar reputacion con estas ofertas"
   ]
  },
  {
   "cell_type": "code",
   "execution_count": null,
   "id": "18d41b33",
   "metadata": {},
   "outputs": [],
   "source": [
    "categ_data = data_mod.groupby('categ_name_l1').agg(\n",
    "    qty = pd.NamedAgg(column='id', aggfunc=\"count\"),\n",
    "    pub_price_max = pd.NamedAgg(column='price', aggfunc=max),\n",
    "    pub_price_min = pd.NamedAgg(column='price', aggfunc=min),\n",
    "    pub_price_med = pd.NamedAgg(column='original_price', aggfunc=np.mean),\n",
    "    sold_qty = pd.NamedAgg(column='sold_quantity', aggfunc=sum)).reset_index()"
   ]
  },
  {
   "cell_type": "code",
   "execution_count": 175,
   "id": "39250b12",
   "metadata": {},
   "outputs": [
    {
     "data": {
      "text/html": [
       "<div>\n",
       "<style scoped>\n",
       "    .dataframe tbody tr th:only-of-type {\n",
       "        vertical-align: middle;\n",
       "    }\n",
       "\n",
       "    .dataframe tbody tr th {\n",
       "        vertical-align: top;\n",
       "    }\n",
       "\n",
       "    .dataframe thead th {\n",
       "        text-align: right;\n",
       "    }\n",
       "</style>\n",
       "<table border=\"1\" class=\"dataframe\">\n",
       "  <thead>\n",
       "    <tr style=\"text-align: right;\">\n",
       "      <th></th>\n",
       "      <th>seller.eshop.eshop_status_id</th>\n",
       "      <th>seller.seller_reputation.power_seller_status</th>\n",
       "      <th>seller.seller_reputation.level_id</th>\n",
       "      <th>seller.seller_reputation.metrics.cancellations.rate</th>\n",
       "      <th>seller.seller_reputation.metrics.claims.rate</th>\n",
       "      <th>seller.seller_reputation.metrics.delayed_handling_time.rate</th>\n",
       "      <th>seller.seller_reputation.transactions.canceled</th>\n",
       "      <th>seller.seller_reputation.transactions.period</th>\n",
       "      <th>seller.seller_reputation.transactions.ratings.negative</th>\n",
       "      <th>seller.seller_reputation.transactions.ratings.neutral</th>\n",
       "      <th>seller.seller_reputation.transactions.ratings.positive</th>\n",
       "      <th>seller.seller_reputation.transactions.completed</th>\n",
       "    </tr>\n",
       "  </thead>\n",
       "  <tbody>\n",
       "    <tr>\n",
       "      <th>6</th>\n",
       "      <td>1.0</td>\n",
       "      <td>platinum</td>\n",
       "      <td>5_green</td>\n",
       "      <td>0.0059</td>\n",
       "      <td>0.0162</td>\n",
       "      <td>0.0620</td>\n",
       "      <td>16528.0</td>\n",
       "      <td>historic</td>\n",
       "      <td>0.05</td>\n",
       "      <td>0.03</td>\n",
       "      <td>0.92</td>\n",
       "      <td>211261.0</td>\n",
       "    </tr>\n",
       "    <tr>\n",
       "      <th>10</th>\n",
       "      <td>NaN</td>\n",
       "      <td>platinum</td>\n",
       "      <td>5_green</td>\n",
       "      <td>0.0046</td>\n",
       "      <td>0.0056</td>\n",
       "      <td>0.0053</td>\n",
       "      <td>2313.0</td>\n",
       "      <td>historic</td>\n",
       "      <td>0.02</td>\n",
       "      <td>0.01</td>\n",
       "      <td>0.97</td>\n",
       "      <td>29213.0</td>\n",
       "    </tr>\n",
       "    <tr>\n",
       "      <th>14</th>\n",
       "      <td>1.0</td>\n",
       "      <td>platinum</td>\n",
       "      <td>5_green</td>\n",
       "      <td>0.0005</td>\n",
       "      <td>0.0100</td>\n",
       "      <td>0.0003</td>\n",
       "      <td>53046.0</td>\n",
       "      <td>historic</td>\n",
       "      <td>0.05</td>\n",
       "      <td>0.02</td>\n",
       "      <td>0.93</td>\n",
       "      <td>857850.0</td>\n",
       "    </tr>\n",
       "    <tr>\n",
       "      <th>16</th>\n",
       "      <td>1.0</td>\n",
       "      <td>platinum</td>\n",
       "      <td>5_green</td>\n",
       "      <td>0.0000</td>\n",
       "      <td>0.0058</td>\n",
       "      <td>0.0107</td>\n",
       "      <td>203.0</td>\n",
       "      <td>historic</td>\n",
       "      <td>0.04</td>\n",
       "      <td>0.03</td>\n",
       "      <td>0.93</td>\n",
       "      <td>5665.0</td>\n",
       "    </tr>\n",
       "    <tr>\n",
       "      <th>19</th>\n",
       "      <td>1.0</td>\n",
       "      <td>platinum</td>\n",
       "      <td>5_green</td>\n",
       "      <td>0.0015</td>\n",
       "      <td>0.0118</td>\n",
       "      <td>0.0050</td>\n",
       "      <td>3287.0</td>\n",
       "      <td>historic</td>\n",
       "      <td>0.02</td>\n",
       "      <td>0.02</td>\n",
       "      <td>0.96</td>\n",
       "      <td>49654.0</td>\n",
       "    </tr>\n",
       "  </tbody>\n",
       "</table>\n",
       "</div>"
      ],
      "text/plain": [
       "    seller.eshop.eshop_status_id seller.seller_reputation.power_seller_status  \\\n",
       "6                            1.0                                     platinum   \n",
       "10                           NaN                                     platinum   \n",
       "14                           1.0                                     platinum   \n",
       "16                           1.0                                     platinum   \n",
       "19                           1.0                                     platinum   \n",
       "\n",
       "   seller.seller_reputation.level_id  \\\n",
       "6                            5_green   \n",
       "10                           5_green   \n",
       "14                           5_green   \n",
       "16                           5_green   \n",
       "19                           5_green   \n",
       "\n",
       "    seller.seller_reputation.metrics.cancellations.rate  \\\n",
       "6                                              0.0059     \n",
       "10                                             0.0046     \n",
       "14                                             0.0005     \n",
       "16                                             0.0000     \n",
       "19                                             0.0015     \n",
       "\n",
       "    seller.seller_reputation.metrics.claims.rate  \\\n",
       "6                                         0.0162   \n",
       "10                                        0.0056   \n",
       "14                                        0.0100   \n",
       "16                                        0.0058   \n",
       "19                                        0.0118   \n",
       "\n",
       "    seller.seller_reputation.metrics.delayed_handling_time.rate  \\\n",
       "6                                              0.0620             \n",
       "10                                             0.0053             \n",
       "14                                             0.0003             \n",
       "16                                             0.0107             \n",
       "19                                             0.0050             \n",
       "\n",
       "    seller.seller_reputation.transactions.canceled  \\\n",
       "6                                          16528.0   \n",
       "10                                          2313.0   \n",
       "14                                         53046.0   \n",
       "16                                           203.0   \n",
       "19                                          3287.0   \n",
       "\n",
       "   seller.seller_reputation.transactions.period  \\\n",
       "6                                      historic   \n",
       "10                                     historic   \n",
       "14                                     historic   \n",
       "16                                     historic   \n",
       "19                                     historic   \n",
       "\n",
       "    seller.seller_reputation.transactions.ratings.negative  \\\n",
       "6                                                0.05        \n",
       "10                                               0.02        \n",
       "14                                               0.05        \n",
       "16                                               0.04        \n",
       "19                                               0.02        \n",
       "\n",
       "    seller.seller_reputation.transactions.ratings.neutral  \\\n",
       "6                                                0.03       \n",
       "10                                               0.01       \n",
       "14                                               0.02       \n",
       "16                                               0.03       \n",
       "19                                               0.02       \n",
       "\n",
       "    seller.seller_reputation.transactions.ratings.positive  \\\n",
       "6                                                0.92        \n",
       "10                                               0.97        \n",
       "14                                               0.93        \n",
       "16                                               0.93        \n",
       "19                                               0.96        \n",
       "\n",
       "    seller.seller_reputation.transactions.completed  \n",
       "6                                          211261.0  \n",
       "10                                          29213.0  \n",
       "14                                         857850.0  \n",
       "16                                           5665.0  \n",
       "19                                          49654.0  "
      ]
     },
     "execution_count": 175,
     "metadata": {},
     "output_type": "execute_result"
    }
   ],
   "source": [
    "seller_columns =['seller.eshop.eshop_status_id',\n",
    "                   'seller.seller_reputation.power_seller_status',\n",
    "                   'seller.seller_reputation.level_id', #no usar\n",
    "                   'seller.seller_reputation.metrics.cancellations.rate',\n",
    "                   'seller.seller_reputation.metrics.claims.rate',\n",
    "                   'seller.seller_reputation.metrics.delayed_handling_time.rate',\n",
    "                   'seller.seller_reputation.transactions.canceled',\n",
    "                   'seller.seller_reputation.transactions.period',\n",
    "                   'seller.seller_reputation.transactions.ratings.negative',\n",
    "                   'seller.seller_reputation.transactions.ratings.neutral',\n",
    "                   'seller.seller_reputation.transactions.ratings.positive',\n",
    "                   'seller.seller_reputation.transactions.completed'] \n",
    "data_seller_offer = data_offer[seller_columns]\n",
    "data_seller_offer.head()"
   ]
  },
  {
   "cell_type": "code",
   "execution_count": null,
   "id": "599ef837",
   "metadata": {},
   "outputs": [],
   "source": [
    "#Tuve problemas con un loop para crear dataframes con diferentes nombres. Sigo a mano\n",
    "a = 11\n",
    "rep_level = data_seller_offer.groupby(seller_columns[a]).agg(\n",
    "    qty = pd.NamedAgg(column=seller_columns[a], aggfunc=\"count\")).reset_index()\n",
    "rep_level = rep_level.set_index(seller_columns[a])\n",
    "rep_level['qty'] = pd.to_numeric(rep_level['qty'])\n",
    "rep_level.sort_values(by='qty', ascending=False).head(100)"
   ]
  },
  {
   "cell_type": "code",
   "execution_count": 174,
   "id": "d6e98617",
   "metadata": {},
   "outputs": [
    {
     "data": {
      "text/plain": [
       "<AxesSubplot:xlabel='seller.eshop.eshop_status_id'>"
      ]
     },
     "execution_count": 174,
     "metadata": {},
     "output_type": "execute_result"
    },
    {
     "data": {
      "image/png": "[encoded data removed]",
      "text/plain": [
       "<Figure size 432x288 with 1 Axes>"
      ]
     },
     "metadata": {
      "needs_background": "light"
     },
     "output_type": "display_data"
    }
   ],
   "source": [
    "rep_shop = data_seller_offer.groupby(seller_columns[0]).agg(\n",
    "    qty = pd.NamedAgg(column=seller_columns[0], aggfunc=\"count\")).reset_index()\n",
    "rep_shop = rep_shop.set_index(seller_columns[0])\n",
    "rep_shop['qty'] = pd.to_numeric(rep_shop['qty'])\n",
    "rep_shop.sort_values(by='qty', ascending=False).head()\n",
    "\n",
    "rep_shop.plot(kind=\"bar\")"
   ]
  },
  {
   "cell_type": "code",
   "execution_count": null,
   "id": "06b36b35",
   "metadata": {},
   "outputs": [],
   "source": [
    "Aquellos sellers que tienen Eshop con status 1 tienen mas ofertas."
   ]
  },
  {
   "cell_type": "code",
   "execution_count": 166,
   "id": "32e3d18f",
   "metadata": {},
   "outputs": [
    {
     "data": {
      "text/plain": [
       "<AxesSubplot:xlabel='seller.seller_reputation.power_seller_status'>"
      ]
     },
     "execution_count": 166,
     "metadata": {},
     "output_type": "execute_result"
    },
    {
     "data": {
      "image/png": "[encoded data removed]",
      "text/plain": [
       "<Figure size 432x288 with 1 Axes>"
      ]
     },
     "metadata": {
      "needs_background": "light"
     },
     "output_type": "display_data"
    }
   ],
   "source": [
    "rep_power_seller = data_seller_offer.groupby(seller_columns[1]).agg(\n",
    "    qty = pd.NamedAgg(column=seller_columns[1], aggfunc=\"count\")).reset_index()\n",
    "rep_power_seller = rep_power_seller.set_index(seller_columns[1])\n",
    "rep_power_seller['qty'] = pd.to_numeric(rep_power_seller['qty'])\n",
    "rep_power_seller.sort_values(by='qty', ascending=False).head()\n",
    "\n",
    "rep_power_seller.plot(kind=\"bar\")"
   ]
  },
  {
   "cell_type": "markdown",
   "id": "fc79df6a",
   "metadata": {},
   "source": [
    "Aquellos que tienen mayor status en la plataforma tienen mas ofertas."
   ]
  },
  {
   "cell_type": "code",
   "execution_count": 170,
   "id": "14a04c6b",
   "metadata": {},
   "outputs": [
    {
     "data": {
      "text/html": [
       "<div>\n",
       "<style scoped>\n",
       "    .dataframe tbody tr th:only-of-type {\n",
       "        vertical-align: middle;\n",
       "    }\n",
       "\n",
       "    .dataframe tbody tr th {\n",
       "        vertical-align: top;\n",
       "    }\n",
       "\n",
       "    .dataframe thead th {\n",
       "        text-align: right;\n",
       "    }\n",
       "</style>\n",
       "<table border=\"1\" class=\"dataframe\">\n",
       "  <thead>\n",
       "    <tr style=\"text-align: right;\">\n",
       "      <th></th>\n",
       "      <th>qty</th>\n",
       "    </tr>\n",
       "    <tr>\n",
       "      <th>seller.seller_reputation.level_id</th>\n",
       "      <th></th>\n",
       "    </tr>\n",
       "  </thead>\n",
       "  <tbody>\n",
       "    <tr>\n",
       "      <th>5_green</th>\n",
       "      <td>1829</td>\n",
       "    </tr>\n",
       "    <tr>\n",
       "      <th>4_light_green</th>\n",
       "      <td>1</td>\n",
       "    </tr>\n",
       "  </tbody>\n",
       "</table>\n",
       "</div>"
      ],
      "text/plain": [
       "                                    qty\n",
       "seller.seller_reputation.level_id      \n",
       "5_green                            1829\n",
       "4_light_green                         1"
      ]
     },
     "execution_count": 170,
     "metadata": {},
     "output_type": "execute_result"
    }
   ],
   "source": [
    "rep_level = data_seller_offer.groupby(seller_columns[2]).agg(\n",
    "    qty = pd.NamedAgg(column=seller_columns[2], aggfunc=\"count\")).reset_index()\n",
    "rep_level = rep_level.set_index(seller_columns[2])\n",
    "rep_level['qty'] = pd.to_numeric(rep_level['qty'])\n",
    "rep_level.sort_values(by='qty', ascending=False).head()\n",
    "\n"
   ]
  },
  {
   "cell_type": "markdown",
   "id": "6d372ac7",
   "metadata": {},
   "source": [
    "La gran mayoria de los seller que venden con ofertas tienen level 5."
   ]
  },
  {
   "cell_type": "code",
   "execution_count": 164,
   "id": "464d83e3",
   "metadata": {},
   "outputs": [
    {
     "data": {
      "text/plain": [
       "<AxesSubplot:xlabel='seller.seller_reputation.transactions.ratings.positive'>"
      ]
     },
     "execution_count": 164,
     "metadata": {},
     "output_type": "execute_result"
    },
    {
     "data": {
      "image/png": "[encoded data removed]",
      "text/plain": [
       "<Figure size 432x288 with 1 Axes>"
      ]
     },
     "metadata": {
      "needs_background": "light"
     },
     "output_type": "display_data"
    }
   ],
   "source": [
    "rep_positive = data_seller_offer.groupby(seller_columns[10]).agg(\n",
    "    qty = pd.NamedAgg(column=seller_columns[10], aggfunc=\"count\")).reset_index()\n",
    "rep_positive = rep_positive.set_index(seller_columns[10])\n",
    "rep_positive['qty'] = pd.to_numeric(rep_positive['qty'])\n",
    "rep_positive.sort_values(by='qty', ascending=False).head(100)\n",
    "#rep_positive[seller_columns[10]].fill_na(0)\n",
    "rep_positive.fillna(0)\n",
    "\n",
    "rep_positive.plot(y='qty')\n"
   ]
  },
  {
   "cell_type": "markdown",
   "id": "e80789bd",
   "metadata": {},
   "source": [
    "Vemos que la buena reputacion tambien correlacion con la cantidad de ofertas."
   ]
  },
  {
   "cell_type": "code",
   "execution_count": 165,
   "id": "608ef709",
   "metadata": {},
   "outputs": [
    {
     "data": {
      "text/plain": [
       "<AxesSubplot:xlabel='seller.seller_reputation.transactions.ratings.neutral'>"
      ]
     },
     "execution_count": 165,
     "metadata": {},
     "output_type": "execute_result"
    },
    {
     "data": {
      "image/png": "[encoded data removed]",
      "text/plain": [
       "<Figure size 432x288 with 1 Axes>"
      ]
     },
     "metadata": {
      "needs_background": "light"
     },
     "output_type": "display_data"
    }
   ],
   "source": [
    "rep_neutral = data_seller_offer.groupby(seller_columns[9]).agg(\n",
    "    qty = pd.NamedAgg(column=seller_columns[9], aggfunc=\"count\")).reset_index()\n",
    "rep_neutral = rep_neutral.set_index(seller_columns[9])\n",
    "rep_neutral['qty'] = pd.to_numeric(rep_neutral['qty'])\n",
    "rep_neutral.sort_values(by='qty', ascending=False).head(100)\n",
    "#rep_positive[seller_columns[9]].fill_na(0)\n",
    "rep_neutral.fillna(0)\n",
    "\n",
    "rep_neutral.plot(y='qty')"
   ]
  },
  {
   "cell_type": "markdown",
   "id": "e337a286",
   "metadata": {},
   "source": [
    "En el caso de la reputacion neutral no es inversamente proporcional. \n",
    "Aunque aquellos que llevan una rep menor a 0.3 tienen mayor cantidad de ventas"
   ]
  },
  {
   "cell_type": "code",
   "execution_count": 177,
   "id": "f7e1901f",
   "metadata": {},
   "outputs": [
    {
     "data": {
      "text/html": [
       "<div>\n",
       "<style scoped>\n",
       "    .dataframe tbody tr th:only-of-type {\n",
       "        vertical-align: middle;\n",
       "    }\n",
       "\n",
       "    .dataframe tbody tr th {\n",
       "        vertical-align: top;\n",
       "    }\n",
       "\n",
       "    .dataframe thead th {\n",
       "        text-align: right;\n",
       "    }\n",
       "</style>\n",
       "<table border=\"1\" class=\"dataframe\">\n",
       "  <thead>\n",
       "    <tr style=\"text-align: right;\">\n",
       "      <th></th>\n",
       "      <th>shipping.free_shipping</th>\n",
       "      <th>shipping.mode</th>\n",
       "      <th>shipping.store_pick_up</th>\n",
       "    </tr>\n",
       "  </thead>\n",
       "  <tbody>\n",
       "    <tr>\n",
       "      <th>6</th>\n",
       "      <td>True</td>\n",
       "      <td>me2</td>\n",
       "      <td>False</td>\n",
       "    </tr>\n",
       "    <tr>\n",
       "      <th>10</th>\n",
       "      <td>False</td>\n",
       "      <td>me2</td>\n",
       "      <td>False</td>\n",
       "    </tr>\n",
       "    <tr>\n",
       "      <th>14</th>\n",
       "      <td>False</td>\n",
       "      <td>me2</td>\n",
       "      <td>False</td>\n",
       "    </tr>\n",
       "    <tr>\n",
       "      <th>16</th>\n",
       "      <td>True</td>\n",
       "      <td>me2</td>\n",
       "      <td>False</td>\n",
       "    </tr>\n",
       "    <tr>\n",
       "      <th>19</th>\n",
       "      <td>True</td>\n",
       "      <td>me2</td>\n",
       "      <td>False</td>\n",
       "    </tr>\n",
       "  </tbody>\n",
       "</table>\n",
       "</div>"
      ],
      "text/plain": [
       "   shipping.free_shipping shipping.mode shipping.store_pick_up\n",
       "6                    True           me2                  False\n",
       "10                  False           me2                  False\n",
       "14                  False           me2                  False\n",
       "16                   True           me2                  False\n",
       "19                   True           me2                  False"
      ]
     },
     "execution_count": 177,
     "metadata": {},
     "output_type": "execute_result"
    }
   ],
   "source": [
    "shipping_columns = ['shipping.free_shipping',\n",
    "                   'shipping.mode',\n",
    "                   'shipping.store_pick_up']\n",
    "\n",
    "data_shipping_offer = data_offer[shipping_columns]\n",
    "data_shipping_offer.head()"
   ]
  },
  {
   "cell_type": "code",
   "execution_count": 180,
   "id": "67c5261f",
   "metadata": {},
   "outputs": [
    {
     "data": {
      "text/plain": [
       "<AxesSubplot:xlabel='shipping.free_shipping'>"
      ]
     },
     "execution_count": 180,
     "metadata": {},
     "output_type": "execute_result"
    },
    {
     "data": {
      "image/png": "[encoded data removed]",
      "text/plain": [
       "<Figure size 432x288 with 1 Axes>"
      ]
     },
     "metadata": {
      "needs_background": "light"
     },
     "output_type": "display_data"
    }
   ],
   "source": [
    "free_shipping = data_shipping_offer.groupby(shipping_columns[0]).agg(\n",
    "    qty = pd.NamedAgg(column=shipping_columns[0], aggfunc=\"count\")).reset_index()\n",
    "free_shipping = free_shipping.set_index(shipping_columns[0])\n",
    "free_shipping['qty'] = pd.to_numeric(free_shipping['qty'])\n",
    "free_shipping.sort_values(by='qty', ascending=False).head(100)\n",
    "#rep_positive[seller_columns[9]].fill_na(0)\n",
    "free_shipping.fillna(0)\n",
    "\n",
    "free_shipping.plot(kind=\"bar\")"
   ]
  },
  {
   "cell_type": "markdown",
   "id": "548f1cdf",
   "metadata": {},
   "source": [
    "El 40% de las ofertas tambien ofrecen envio gratuito"
   ]
  },
  {
   "cell_type": "code",
   "execution_count": 183,
   "id": "627d3d43",
   "metadata": {},
   "outputs": [
    {
     "data": {
      "text/plain": [
       "<AxesSubplot:xlabel='shipping.mode'>"
      ]
     },
     "execution_count": 183,
     "metadata": {},
     "output_type": "execute_result"
    },
    {
     "data": {
      "image/png": "[encoded data removed]",
      "text/plain": [
       "<Figure size 432x288 with 1 Axes>"
      ]
     },
     "metadata": {
      "needs_background": "light"
     },
     "output_type": "display_data"
    }
   ],
   "source": [
    "mode_shipping = data_shipping_offer.groupby(shipping_columns[1]).agg(\n",
    "    qty = pd.NamedAgg(column=shipping_columns[1], aggfunc=\"count\")).reset_index()\n",
    "mode_shipping = mode_shipping.set_index(shipping_columns[1])\n",
    "mode_shipping['qty'] = pd.to_numeric(mode_shipping['qty'])\n",
    "mode_shipping.sort_values(by='qty', ascending=False).head(100)\n",
    "#rep_positive[seller_columns[9]].fill_na(0)\n",
    "mode_shipping.fillna(0)\n",
    "\n",
    "mode_shipping.plot(kind=\"bar\")"
   ]
  },
  {
   "cell_type": "markdown",
   "id": "d8be621b",
   "metadata": {},
   "source": [
    "La gran mayoria de las ofertas utilizan mercado envios como opcion de envio."
   ]
  },
  {
   "cell_type": "code",
   "execution_count": 185,
   "id": "faca040d",
   "metadata": {},
   "outputs": [
    {
     "data": {
      "text/html": [
       "<div>\n",
       "<style scoped>\n",
       "    .dataframe tbody tr th:only-of-type {\n",
       "        vertical-align: middle;\n",
       "    }\n",
       "\n",
       "    .dataframe tbody tr th {\n",
       "        vertical-align: top;\n",
       "    }\n",
       "\n",
       "    .dataframe thead th {\n",
       "        text-align: right;\n",
       "    }\n",
       "</style>\n",
       "<table border=\"1\" class=\"dataframe\">\n",
       "  <thead>\n",
       "    <tr style=\"text-align: right;\">\n",
       "      <th></th>\n",
       "      <th>qty</th>\n",
       "    </tr>\n",
       "    <tr>\n",
       "      <th>shipping.store_pick_up</th>\n",
       "      <th></th>\n",
       "    </tr>\n",
       "  </thead>\n",
       "  <tbody>\n",
       "    <tr>\n",
       "      <th>False</th>\n",
       "      <td>1766</td>\n",
       "    </tr>\n",
       "    <tr>\n",
       "      <th>True</th>\n",
       "      <td>65</td>\n",
       "    </tr>\n",
       "  </tbody>\n",
       "</table>\n",
       "</div>"
      ],
      "text/plain": [
       "                         qty\n",
       "shipping.store_pick_up      \n",
       "False                   1766\n",
       "True                      65"
      ]
     },
     "execution_count": 185,
     "metadata": {},
     "output_type": "execute_result"
    }
   ],
   "source": [
    "pickup_shipping = data_shipping_offer.groupby(shipping_columns[2]).agg(\n",
    "    qty = pd.NamedAgg(column=shipping_columns[2], aggfunc=\"count\")).reset_index()\n",
    "pickup_shipping = pickup_shipping.set_index(shipping_columns[2])\n",
    "pickup_shipping['qty'] = pd.to_numeric(pickup_shipping['qty'])\n",
    "pickup_shipping.sort_values(by='qty', ascending=False).head(100)\n",
    "#rep_positive[seller_columns[9]].fill_na(0)\n",
    "pickup_shipping.fillna(0)\n",
    "\n",
    "pickup_shipping.plot(kind=\"bar\")"
   ]
  },
  {
   "cell_type": "markdown",
   "id": "4339a3c9",
   "metadata": {},
   "source": [
    "Menos del 5% de las publicaciones con oferta ofrecen pasar a buscar el producto por el local/domicilio del vendedor"
   ]
  },
  {
   "cell_type": "code",
   "execution_count": 186,
   "id": "dfbbbe57",
   "metadata": {},
   "outputs": [
    {
     "data": {
      "text/html": [
       "<div>\n",
       "<style scoped>\n",
       "    .dataframe tbody tr th:only-of-type {\n",
       "        vertical-align: middle;\n",
       "    }\n",
       "\n",
       "    .dataframe tbody tr th {\n",
       "        vertical-align: top;\n",
       "    }\n",
       "\n",
       "    .dataframe thead th {\n",
       "        text-align: right;\n",
       "    }\n",
       "</style>\n",
       "<table border=\"1\" class=\"dataframe\">\n",
       "  <thead>\n",
       "    <tr style=\"text-align: right;\">\n",
       "      <th></th>\n",
       "      <th>listing_type_id</th>\n",
       "      <th>condition</th>\n",
       "      <th>accepts_mercadopago</th>\n",
       "    </tr>\n",
       "  </thead>\n",
       "  <tbody>\n",
       "    <tr>\n",
       "      <th>6</th>\n",
       "      <td>gold_pro</td>\n",
       "      <td>new</td>\n",
       "      <td>True</td>\n",
       "    </tr>\n",
       "    <tr>\n",
       "      <th>10</th>\n",
       "      <td>gold_special</td>\n",
       "      <td>new</td>\n",
       "      <td>True</td>\n",
       "    </tr>\n",
       "    <tr>\n",
       "      <th>14</th>\n",
       "      <td>gold_special</td>\n",
       "      <td>new</td>\n",
       "      <td>True</td>\n",
       "    </tr>\n",
       "    <tr>\n",
       "      <th>16</th>\n",
       "      <td>gold_special</td>\n",
       "      <td>new</td>\n",
       "      <td>True</td>\n",
       "    </tr>\n",
       "    <tr>\n",
       "      <th>19</th>\n",
       "      <td>gold_special</td>\n",
       "      <td>new</td>\n",
       "      <td>True</td>\n",
       "    </tr>\n",
       "  </tbody>\n",
       "</table>\n",
       "</div>"
      ],
      "text/plain": [
       "   listing_type_id condition accepts_mercadopago\n",
       "6         gold_pro       new                True\n",
       "10    gold_special       new                True\n",
       "14    gold_special       new                True\n",
       "16    gold_special       new                True\n",
       "19    gold_special       new                True"
      ]
     },
     "execution_count": 186,
     "metadata": {},
     "output_type": "execute_result"
    }
   ],
   "source": [
    "venta_columns = ['listing_type_id',\n",
    "                    'condition',\n",
    "                    'accepts_mercadopago']\n",
    "\n",
    "data_venta_offer = data_offer[venta_columns]\n",
    "data_venta_offer.head()"
   ]
  },
  {
   "cell_type": "code",
   "execution_count": 188,
   "id": "442313c7",
   "metadata": {},
   "outputs": [
    {
     "data": {
      "text/plain": [
       "<AxesSubplot:xlabel='listing_type_id'>"
      ]
     },
     "execution_count": 188,
     "metadata": {},
     "output_type": "execute_result"
    },
    {
     "data": {
      "image/png": "[encoded data removed]",
      "text/plain": [
       "<Figure size 432x288 with 1 Axes>"
      ]
     },
     "metadata": {
      "needs_background": "light"
     },
     "output_type": "display_data"
    }
   ],
   "source": [
    "listing_ventas = data_venta_offer.groupby(venta_columns[0]).agg(\n",
    "    qty = pd.NamedAgg(column=venta_columns[0], aggfunc=\"count\")).reset_index()\n",
    "listing_ventas = listing_ventas.set_index(venta_columns[0])\n",
    "listing_ventas['qty'] = pd.to_numeric(listing_ventas['qty'])\n",
    "listing_ventas.sort_values(by='qty', ascending=False).head(100)\n",
    "#rep_positive[seller_columns[9]].fill_na(0)\n",
    "listing_ventas.fillna(0)\n",
    "\n",
    "listing_ventas.plot(kind=\"bar\")"
   ]
  },
  {
   "cell_type": "code",
   "execution_count": 190,
   "id": "02bbb952",
   "metadata": {},
   "outputs": [
    {
     "data": {
      "text/plain": [
       "<AxesSubplot:xlabel='condition'>"
      ]
     },
     "execution_count": 190,
     "metadata": {},
     "output_type": "execute_result"
    },
    {
     "data": {
      "image/png": "[encoded data removed]",
      "text/plain": [
       "<Figure size 432x288 with 1 Axes>"
      ]
     },
     "metadata": {
      "needs_background": "light"
     },
     "output_type": "display_data"
    }
   ],
   "source": [
    "condition_ventas = data_venta_offer.groupby(venta_columns[1]).agg(\n",
    "    qty = pd.NamedAgg(column=venta_columns[1], aggfunc=\"count\")).reset_index()\n",
    "condition_ventas = condition_ventas.set_index(venta_columns[1])\n",
    "condition_ventas['qty'] = pd.to_numeric(condition_ventas['qty'])\n",
    "condition_ventas.sort_values(by='qty', ascending=False).head(100)\n",
    "#rep_positive[seller_columns[9]].fill_na(0)\n",
    "condition_ventas.fillna(0)\n",
    "\n",
    "condition_ventas.plot(kind=\"bar\")"
   ]
  },
  {
   "cell_type": "code",
   "execution_count": 191,
   "id": "9b727581",
   "metadata": {},
   "outputs": [
    {
     "data": {
      "text/plain": [
       "<AxesSubplot:xlabel='accepts_mercadopago'>"
      ]
     },
     "execution_count": 191,
     "metadata": {},
     "output_type": "execute_result"
    },
    {
     "data": {
      "image/png": "[encoded data removed]",
      "text/plain": [
       "<Figure size 432x288 with 1 Axes>"
      ]
     },
     "metadata": {
      "needs_background": "light"
     },
     "output_type": "display_data"
    }
   ],
   "source": [
    "mp_ventas = data_venta_offer.groupby(venta_columns[2]).agg(\n",
    "    qty = pd.NamedAgg(column=venta_columns[2], aggfunc=\"count\")).reset_index()\n",
    "mp_ventas = mp_ventas.set_index(venta_columns[2])\n",
    "mp_ventas['qty'] = pd.to_numeric(mp_ventas['qty'])\n",
    "mp_ventas.sort_values(by='qty', ascending=False).head(100)\n",
    "#rep_positive[seller_columns[9]].fill_na(0)\n",
    "mp_ventas.fillna(0)\n",
    "\n",
    "mp_ventas.plot(kind=\"bar\")"
   ]
  },
  {
   "cell_type": "code",
   "execution_count": 198,
   "id": "94892d7b",
   "metadata": {},
   "outputs": [
    {
     "data": {
      "text/plain": [
       "count     16523\n",
       "unique        2\n",
       "top       False\n",
       "freq      16315\n",
       "Name: shipping.store_pick_up, dtype: object"
      ]
     },
     "execution_count": 198,
     "metadata": {},
     "output_type": "execute_result"
    }
   ],
   "source": [
    "data_mod['shipping.store_pick_up'].describe()"
   ]
  }
 ],
 "metadata": {
  "kernelspec": {
   "display_name": "Python 3 (ipykernel)",
   "language": "python",
   "name": "python3"
  },
  "language_info": {
   "codemirror_mode": {
    "name": "ipython",
    "version": 3
   },
   "file_extension": ".py",
   "mimetype": "text/x-python",
   "name": "python",
   "nbconvert_exporter": "python",
   "pygments_lexer": "ipython3",
   "version": "3.7.4"
  }
 },
 "nbformat": 4,
 "nbformat_minor": 5
}
